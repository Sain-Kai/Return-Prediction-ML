{
 "cells": [
  {
   "cell_type": "code",
   "execution_count": 34,
   "id": "c6d3bb68-5fa8-4de5-bdc6-e8f734b4085c",
   "metadata": {},
   "outputs": [],
   "source": [
    "import numpy as np\n",
    "import pandas as pd\n",
    "import matplotlib.pyplot as plt\n",
    "import shap\n",
    "import optuna\n",
    "from catboost import CatBoostClassifier\n",
    "from xgboost import XGBClassifier, plot_importance\n",
    "from lightgbm import LGBMClassifier\n",
    "from sklearn.ensemble import RandomForestClassifier, StackingClassifier\n",
    "from sklearn.preprocessing import LabelEncoder\n",
    "from sklearn.metrics import accuracy_score, classification_report, confusion_matrix\n",
    "from sklearn.model_selection import train_test_split, GridSearchCV, cross_val_score"
   ]
  },
  {
   "cell_type": "code",
   "execution_count": 35,
   "id": "78a3d4ba-f84a-4d3f-97e3-003d09407c98",
   "metadata": {},
   "outputs": [],
   "source": [
    "db = pd.read_excel(\"Retail-Supply-Chain-Sales-Dataset.xlsx\")\n",
    "target = db.iloc[:,[9,4,6,7,11,12] + list(range(16,22))].copy()\n",
    "\n",
    "target['Duration'] =db['Ship Date']-db['Order Date']\n",
    "target['Ship Day'] = db['Ship Date'].dt.dayofweek\n",
    "target['Ship Month']= db['Ship Date'].dt.month\n",
    "target['Order Month'] = db['Order Date'].dt.month\n",
    "target['Returned']=db['Returned'].map({'Yes':1,'Not':0})"
   ]
  },
  {
   "cell_type": "code",
   "execution_count": 36,
   "id": "1f9b8a44-8309-4a00-846e-2688f960f819",
   "metadata": {},
   "outputs": [],
   "source": [
    "def extract_brand(product_name):\n",
    "    if isinstance(product_name,str):\n",
    "        return product_name.split()[0].strip(\",\").title()\n",
    "    return \"Unknown\"\n",
    "target['Brand']=target['Product Name'].apply(extract_brand)\n",
    "target['Duration']=target['Duration'].dt.days"
   ]
  },
  {
   "cell_type": "code",
   "execution_count": 37,
   "id": "deab4ef1-94e8-48a0-9293-dd052e5c318e",
   "metadata": {},
   "outputs": [],
   "source": [
    "encoding_cols = ['Ship Mode','Segment','City','Sub-Category','Brand','Region']\n",
    "for cols in encoding_cols:\n",
    "     le = LabelEncoder()\n",
    "     target[cols] = le.fit_transform(target[cols])\n",
    "target.drop(columns=['Product Name','Customer Name','Sales'],inplace= True)"
   ]
  },
  {
   "cell_type": "code",
   "execution_count": 38,
   "id": "429afa89-06ac-4492-a17f-096e23ebc551",
   "metadata": {},
   "outputs": [
    {
     "name": "stdout",
     "output_type": "stream",
     "text": [
      "Accuracy:  0.9514757378689345\n"
     ]
    }
   ],
   "source": [
    "X = target.drop(columns=['Returned'])\n",
    "y = target['Returned']\n",
    "x_train,x_test,y_train,y_test = train_test_split(X,y,test_size=0.2,random_state=42,stratify=y)\n",
    "\n",
    "XGB_final = XGBClassifier(\n",
    "    n_estimators=250,\n",
    "    max_depth=25,\n",
    "    learning_rate=0.3,\n",
    "    eval_metric='logloss',\n",
    "    random_state=42,\n",
    ")\n",
    "XGB_final.fit(x_train,y_train,\n",
    "       eval_set =[(x_test,y_test)],\n",
    "       verbose = False)\n",
    "y_pred = XGB_final.predict(x_test)\n",
    "acc = accuracy_score(y_test,y_pred)\n",
    "print(\"Accuracy: \",acc)"
   ]
  },
  {
   "cell_type": "code",
   "execution_count": 57,
   "id": "9ffa812a-54bf-4bef-a092-c9247f110a32",
   "metadata": {},
   "outputs": [
    {
     "name": "stdout",
     "output_type": "stream",
     "text": [
      "Accuracy: 0.9609804902451226\n"
     ]
    }
   ],
   "source": [
    "LGBM=LGBMClassifier(\n",
    "    verbose=-1,\n",
    "    random_seed=42,\n",
    "    learning_rate=0.21,\n",
    "    max_depth=11,\n",
    "    min_child_samples=10,\n",
    "    n_estimators=370,\n",
    "    num_leaves=60,\n",
    "    subsample=0.7\n",
    ")\n",
    "LGBM.fit(x_train,y_train)\n",
    "y_pred_Lgbm=LGBM.predict(x_test)\n",
    "acc_LGBM=accuracy_score(y_test,y_pred_Lgbm)\n",
    "print(\"Accuracy:\",acc_LGBM)"
   ]
  },
  {
   "cell_type": "code",
   "execution_count": 11,
   "id": "e0c08676-f52c-4111-9e42-25d573bb7830",
   "metadata": {},
   "outputs": [
    {
     "name": "stdout",
     "output_type": "stream",
     "text": [
      "Accuracy 0.951975987993997\n"
     ]
    }
   ],
   "source": [
    "RF_model = RandomForestClassifier(\n",
    "    random_state=42,\n",
    "    bootstrap=False, \n",
    "    max_depth=None,\n",
    "    min_samples_leaf=1,\n",
    "    min_samples_split=3,\n",
    "    n_estimators=100,\n",
    "    criterion = 'gini'\n",
    ")\n",
    "RF_model.fit(x_train,y_train)\n",
    "y_pred_RF= RF_model.predict(x_test)\n",
    "acc_RF=accuracy_score(y_test,y_pred_RF)\n",
    "print(\"Accuracy\",acc_RF)"
   ]
  },
  {
   "cell_type": "code",
   "execution_count": 10,
   "id": "9d455fa2-6803-4ded-9001-44a570e43930",
   "metadata": {},
   "outputs": [
    {
     "name": "stdout",
     "output_type": "stream",
     "text": [
      "CATBoost Accuracy:  0.9564782391195598\n"
     ]
    }
   ],
   "source": [
    "CATB = CatBoostClassifier(random_seed=42,\n",
    "                          border_count=32,\n",
    "                          depth=9,\n",
    "                          iterations=270,\n",
    "                          learning_rate=0.73,\n",
    "                          verbose=0\n",
    "                         )\n",
    "CATB.fit(x_train,y_train)\n",
    "y_pred=CATB.predict(x_test)\n",
    "acc_CAT=accuracy_score(y_pred,y_test)\n",
    "print('CATBoost Accuracy: ',acc_CAT)"
   ]
  },
  {
   "cell_type": "code",
   "execution_count": 46,
   "id": "6aad0f65-a47c-4ae6-a22d-0428767f3042",
   "metadata": {},
   "outputs": [
    {
     "name": "stdout",
     "output_type": "stream",
     "text": [
      "Accuracy Stack:  0.9629814907453726\n"
     ]
    }
   ],
   "source": [
    "base_learners=[\n",
    "    ('RF',RandomForestClassifier(\n",
    "        random_state=42,\n",
    "        bootstrap=False, \n",
    "        max_depth=None,\n",
    "        min_samples_leaf=1,\n",
    "        min_samples_split=3,\n",
    "        n_estimators=100,\n",
    "        criterion = 'gini'\n",
    "    )),\n",
    "    ('XGB',XGBClassifier(\n",
    "         n_estimators = 250, \n",
    "        max_depth= 25, \n",
    "        learning_rate= 0.3, \n",
    "        eval_metric='error',\n",
    "        random_state=42,\n",
    "        booster='gbtree'\n",
    "    )),\n",
    "    ('CB',CatBoostClassifier(\n",
    "        verbose=0,\n",
    "        iterations=300,\n",
    "        random_seed=42,\n",
    "        border_count=32,\n",
    "        learning_rate=0.73,\n",
    "        depth=9\n",
    "    )),\n",
    "    ('LGBM',LGBMClassifier(\n",
    "        verbose=-1,\n",
    "        random_seed=42,\n",
    "        learning_rate=0.21,\n",
    "        max_depth=11,\n",
    "        min_child_samples=10,\n",
    "        n_estimators=370,\n",
    "        num_leaves=60,\n",
    "        subsample=0.7\n",
    "    ))\n",
    "]\n",
    "meta_learner=LGBMClassifier(\n",
    "    random_seed=42,\n",
    "    n_estimators=150,\n",
    "    max_depth=3,\n",
    "    learning_rate=0.07,\n",
    "    num_leaves=12,\n",
    "    subsample=0.7,\n",
    "    min_child_samples=8\n",
    ")\n",
    "\n",
    "stack_model=StackingClassifier(\n",
    "    estimators=base_learners,\n",
    "    final_estimator=meta_learner,\n",
    "    cv=3,\n",
    "    n_jobs=-1,\n",
    "    passthrough=True\n",
    ")\n",
    "stack_model.fit(x_train,y_train)\n",
    "y_pred=stack_model.predict(x_test)\n",
    "acc_stack=accuracy_score(y_test,y_pred)\n",
    "print(\"Accuracy Stack: \",acc_stack)"
   ]
  },
  {
   "cell_type": "code",
   "execution_count": 54,
   "id": "bcaa3d8e-7e5a-4c62-a710-cd767896a024",
   "metadata": {},
   "outputs": [
    {
     "name": "stdout",
     "output_type": "stream",
     "text": [
      "Accuracy: 0.9187 ± 0.0015\n"
     ]
    }
   ],
   "source": [
    "cross_val = cross_val_score(stack_model, X, y, cv=5, scoring='accuracy')\n",
    "print(f\"Accuracy: {cross_val.mean():.4f} ± {cross_val.std():.4f}\")"
   ]
  }
 ],
 "metadata": {
  "kernelspec": {
   "display_name": "Python [conda env:base] *",
   "language": "python",
   "name": "conda-base-py"
  },
  "language_info": {
   "codemirror_mode": {
    "name": "ipython",
    "version": 3
   },
   "file_extension": ".py",
   "mimetype": "text/x-python",
   "name": "python",
   "nbconvert_exporter": "python",
   "pygments_lexer": "ipython3",
   "version": "3.12.7"
  }
 },
 "nbformat": 4,
 "nbformat_minor": 5
}
