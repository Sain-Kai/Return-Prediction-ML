{
 "cells": [
  {
   "cell_type": "code",
   "execution_count": null,
   "id": "c6d3bb68-5fa8-4de5-bdc6-e8f734b4085c",
   "metadata": {},
   "outputs": [],
   "source": [
    "import numpy as np\n",
    "import pandas as pd\n",
    "import matplotlib.pyplot as plt\n",
    "import seaborn as sb\n",
    "import shap\n",
    "import optuna\n",
    "!pip install --upgrade xgboost\n",
    "from sklearn.preprocessing import LabelEncoder\n",
    "from xgboost import XGBClassifier\n",
    "from sklearn.model_selection import train_test_split\n",
    "from sklearn.metrics import accuracy_score, classification_report, confusion_matrix"
   ]
  },
  {
   "cell_type": "code",
   "execution_count": null,
   "id": "78a3d4ba-f84a-4d3f-97e3-003d09407c98",
   "metadata": {},
   "outputs": [],
   "source": [
    "db = pd.read_excel(\"Retail-Supply-Chain-Sales-Dataset.xlsx\")"
   ]
  },
  {
   "cell_type": "code",
   "execution_count": null,
   "id": "055e419f-d9e0-490f-afbd-a91d275cbe4c",
   "metadata": {},
   "outputs": [],
   "source": [
    "db.info()"
   ]
  },
  {
   "cell_type": "code",
   "execution_count": null,
   "id": "5667e373-c414-49a1-9289-6c0c97a27cd0",
   "metadata": {},
   "outputs": [],
   "source": [
    "target = db.iloc[:,[4,6,7,9,11,12] + list(range(16,22))].copy()"
   ]
  },
  {
   "cell_type": "code",
   "execution_count": null,
   "id": "981c08e3-6219-445b-bb9c-23c42a1a1862",
   "metadata": {},
   "outputs": [],
   "source": [
    "target['Duration'] =db['Ship Date']-db['Order Date']\n",
    "target['Ship Day'] = db['Ship Date'].dt.dayofweek\n",
    "target['Ship Month']= db['Ship Date'].dt.month\n",
    "target['Order Month'] = db['Order Date'].dt.month\n",
    "target.sample(5)"
   ]
  },
  {
   "cell_type": "code",
   "execution_count": null,
   "id": "1f9b8a44-8309-4a00-846e-2688f960f819",
   "metadata": {},
   "outputs": [],
   "source": [
    "target['Returned']=db['Returned'].map({'Yes':1,'Not':0})\n",
    "def extract_brand(product_name):\n",
    "    if isinstance(product_name,str):\n",
    "        return product_name.split()[0].strip(\",\").title()\n",
    "    return \"Unknown\"\n",
    "target['Brand']=target['Product Name'].apply(extract_brand)\n",
    "target['Duration']=target['Duration'].dt.days\n",
    "target.sample(5)"
   ]
  },
  {
   "cell_type": "code",
   "execution_count": null,
   "id": "deab4ef1-94e8-48a0-9293-dd052e5c318e",
   "metadata": {},
   "outputs": [],
   "source": [
    "encoding_cols = ['Ship Mode','Segment','Sub-Category','Brand','City','Region']\n",
    "for cols in encoding_cols:\n",
    "    for cols in encoding_cols:\n",
    "        le = LabelEncoder()\n",
    "        target[cols] = le.fit_transform(target[cols])\n",
    "target.drop(columns=['Product Name','Customer Name','Sales'],inplace= True)\n",
    "target.sample(4)"
   ]
  },
  {
   "cell_type": "code",
   "execution_count": null,
   "id": "15a9c05c-7147-4bde-baf7-e15cfd0e4eb3",
   "metadata": {},
   "outputs": [],
   "source": [
    "x1 = target.drop(columns=['Returned'])\n",
    "y = target['Returned']\n",
    "x_train,x_test,y_train,y_test = train_test_split(x1,y,test_size=0.2,random_state=42,stratify=y)\n",
    "XGB_test=XGBClassifier(eval_metric='logloss', random_state=42)\n",
    "XGB_test.fit(x_train,y_train)\n",
    "explainer = shap.TreeExplainer(XGB_test)\n",
    "shap_values = explainer.shap_values(x_train)\n",
    "shap.summary_plot(shap_values,x_train)"
   ]
  },
  {
   "cell_type": "raw",
   "id": "71671520-df57-4994-b1ed-381863a69460",
   "metadata": {},
   "source": [
    "after adding region : 0.919959979989995\n",
    "after removing city : 0.9169584792396198\n",
    "without region and with city: 0.919959979989995\n",
    "with month:0.9239619809904952\n",
    "with profit :remains same\n",
    "with ship day : 0.9279639819909955\n",
    "with ship month : 0.9324662331165583\n",
    "without sales : 0.9339669834917459\n",
    "without profit : 0.9384692346173087\n",
    "with postal code: 0.9399699849924963\n",
    "with region : 0.9439719859929965"
   ]
  },
  {
   "cell_type": "code",
   "execution_count": null,
   "id": "6c7342a8-b3b6-4ee9-a585-65ffffd85034",
   "metadata": {},
   "outputs": [],
   "source": [
    "import optuna\n",
    "from xgboost import XGBClassifier\n",
    "from sklearn.metrics import accuracy_score\n",
    "\n",
    "def objective(trial):\n",
    "    params = {\n",
    "        'n_estimators': trial.suggest_categorical('n_estimators', [300,400]),\n",
    "        'max_depth': trial.suggest_categorical('max_depth', [5,100]),\n",
    "        'learning_rate': trial.suggest_categorical('learning_rate', [1.0,1.5]),\n",
    "        'subsample': trial.suggest_float('subsample', 0.5, 1.0),\n",
    "        'colsample_bytree': trial.suggest_float('colsample_bytree', 0.5, 1.0),\n",
    "        'gamma': trial.suggest_float('gamma', 0, 5),\n",
    "        'reg_alpha': trial.suggest_float('reg_alpha', 0.0, 5.0),\n",
    "        'reg_lambda': trial.suggest_float('reg_lambda', 0.0, 5.0),\n",
    "        'eval_metric': 'logloss',\n",
    "        'random_state': 42\n",
    "    }\n",
    "\n",
    "    model = XGBClassifier(**params)\n",
    "    model.fit(x_train, y_train)\n",
    "    y_pred = model.predict(x_test)\n",
    "    accuracy = accuracy_score(y_test, y_pred)\n",
    "    return accuracy\n",
    "\n",
    "study = optuna.create_study(direction='maximize')\n",
    "study.optimize(objective, n_trials=200)\n",
    "\n",
    "print(\"Accuracy:\", study.best_value)\n",
    "print(\"Best Parameters:\", study.best_params)\n"
   ]
  },
  {
   "cell_type": "raw",
   "id": "8e19662e-73df-44d6-b6e1-fd4f56e083cb",
   "metadata": {},
   "source": [
    "Accuracy: 0.9539769884942472\n",
    "Best Parameters: {'n_estimators': 350, 'max_depth': 25, 'learning_rate': 0.1, 'subsample': 0.6742629126741407, 'colsample_bytree': 0.5536810208403322, 'gamma': 0.004443846996582734, 'reg_alpha': 0.149414403471666, 'reg_lambda': 1.009441429981761}\n",
    "\n",
    "Accuracy: 0.9584792396198099\n",
    "Best Parameters: {'n_estimators': 360, 'max_depth': 22, 'learning_rate': 1.04, 'subsample': 0.9485460959271462, 'colsample_bytree': 0.6602563477970528, 'gamma': 0.029790166235651144, 'reg_alpha': 0.20050890813607447, 'reg_lambda': 3.5023033913258725}\n",
    "\n"
   ]
  },
  {
   "cell_type": "code",
   "execution_count": null,
   "id": "429afa89-06ac-4492-a17f-096e23ebc551",
   "metadata": {},
   "outputs": [],
   "source": [
    "X = target.drop(columns=['Returned','Sub-Category','Discount'])\n",
    "y = target['Returned']\n",
    "x_train,x_test,y_train,y_test = train_test_split(X,y,test_size=0.2,random_state = 42, stratify=y)\n",
    "XGB = XGBClassifier( eval_metric = 'logloss', random_state = 42)\n",
    "XGB.fit(x_train,y_train)"
   ]
  },
  {
   "cell_type": "code",
   "execution_count": null,
   "id": "30b9a2b1-4f5f-42b6-b90d-39f32871159e",
   "metadata": {},
   "outputs": [],
   "source": []
  }
 ],
 "metadata": {
  "kernelspec": {
   "display_name": "Python [conda env:base] *",
   "language": "python",
   "name": "conda-base-py"
  },
  "language_info": {
   "codemirror_mode": {
    "name": "ipython",
    "version": 3
   },
   "file_extension": ".py",
   "mimetype": "text/x-python",
   "name": "python",
   "nbconvert_exporter": "python",
   "pygments_lexer": "ipython3",
   "version": "3.12.7"
  }
 },
 "nbformat": 4,
 "nbformat_minor": 5
}
